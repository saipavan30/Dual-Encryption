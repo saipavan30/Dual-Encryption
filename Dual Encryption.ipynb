{
 "cells": [
  {
   "cell_type": "code",
   "execution_count": 160,
   "metadata": {
    "colab": {
     "base_uri": "https://localhost:8080/"
    },
    "id": "qpvHsuti7T-j",
    "outputId": "5374441f-6b0b-4fb4-e087-55e97a398cc1"
   },
   "outputs": [
    {
     "name": "stdout",
     "output_type": "stream",
     "text": [
      "Requirement already satisfied: pycryptodome in c:\\programs\\anaconda\\lib\\site-packages (3.16.0)\n",
      "Note: you may need to restart the kernel to use updated packages.\n"
     ]
    }
   ],
   "source": [
    "pip install pycryptodome"
   ]
  },
  {
   "cell_type": "code",
   "execution_count": 161,
   "metadata": {
    "id": "Vhgr9AGOwXZb"
   },
   "outputs": [],
   "source": [
    "import uuid\n",
    "import hashlib\n",
    "import numpy as np\n",
    "import base64\n",
    "from Crypto.Cipher import AES\n",
    "import os"
   ]
  },
  {
   "cell_type": "markdown",
   "metadata": {},
   "source": [
    "### Reading the file"
   ]
  },
  {
   "cell_type": "code",
   "execution_count": 162,
   "metadata": {},
   "outputs": [],
   "source": [
    "filename=\"file.pdf\""
   ]
  },
  {
   "cell_type": "code",
   "execution_count": 163,
   "metadata": {},
   "outputs": [],
   "source": [
    "extension=filename.split('.')[1]"
   ]
  },
  {
   "cell_type": "code",
   "execution_count": 164,
   "metadata": {
    "id": "xBAfR3Y1wXv-"
   },
   "outputs": [],
   "source": [
    "with open(filename, mode=\"rb\") as file:\n",
    "    data = file.read()"
   ]
  },
  {
   "cell_type": "code",
   "execution_count": 165,
   "metadata": {
    "id": "DMcfcB-Iwq-B"
   },
   "outputs": [
    {
     "data": {
      "text/plain": [
       "190766"
      ]
     },
     "execution_count": 165,
     "metadata": {},
     "output_type": "execute_result"
    }
   ],
   "source": [
    "file_length=len(data)\n",
    "file_length"
   ]
  },
  {
   "cell_type": "markdown",
   "metadata": {
    "id": "m-1-8aZsxdBU"
   },
   "source": [
    "### Encryption"
   ]
  },
  {
   "cell_type": "markdown",
   "metadata": {},
   "source": [
    "#### Calculating number of blocks based on file size"
   ]
  },
  {
   "cell_type": "code",
   "execution_count": 166,
   "metadata": {
    "id": "Fn3m1I4RwsGz"
   },
   "outputs": [],
   "source": [
    "if file_length >= 1024**3:\n",
    "    blocks=((file_length/1024**3)*8)\n",
    "else:\n",
    "    blocks=8"
   ]
  },
  {
   "cell_type": "markdown",
   "metadata": {},
   "source": [
    "#### Dividing the file into blocks"
   ]
  },
  {
   "cell_type": "code",
   "execution_count": 167,
   "metadata": {
    "id": "d16xCvc7DMxa"
   },
   "outputs": [],
   "source": [
    "file_blocks=[]\n",
    "block_size=file_length/blocks\n",
    "temp=data"
   ]
  },
  {
   "cell_type": "code",
   "execution_count": 168,
   "metadata": {},
   "outputs": [],
   "source": [
    "block_size=int(block_size)\n",
    "start=0\n",
    "end=block_size"
   ]
  },
  {
   "cell_type": "code",
   "execution_count": 169,
   "metadata": {},
   "outputs": [],
   "source": [
    "for i in range(0,blocks-1):\n",
    "    file_blocks.append(temp[start:end])\n",
    "    start=end\n",
    "    end=end+block_size\n",
    "    \n",
    "file_blocks.append(temp[start:file_length])"
   ]
  },
  {
   "cell_type": "markdown",
   "metadata": {},
   "source": [
    "#### Generating Pseudo random numbers using  Linear Congruence Method"
   ]
  },
  {
   "cell_type": "code",
   "execution_count": 170,
   "metadata": {
    "colab": {
     "base_uri": "https://localhost:8080/"
    },
    "id": "J3apX8bdfBUb",
    "outputId": "a03054bf-d47d-447f-b4a8-ad2b0dd36fd3"
   },
   "outputs": [
    {
     "data": {
      "text/plain": [
       "[0, 16787, 23845, 104921, 107149, 131245, 147309, 170735]"
      ]
     },
     "execution_count": 170,
     "metadata": {},
     "output_type": "execute_result"
    }
   ],
   "source": [
    "Xo=0\n",
    "m=file_length\n",
    "a=int(file_length/10)\n",
    "c=int(file_length/blocks)\n",
    "length=blocks\n",
    "random_numbers=[0]*length\n",
    "random_numbers[0] = Xo\n",
    "\n",
    "for i in range(1, length):\n",
    "    random_numbers[i] = ((random_numbers[i - 1] * a) +c) % m\n",
    "random_numbers.sort()\n",
    "random_numbers"
   ]
  },
  {
   "cell_type": "markdown",
   "metadata": {},
   "source": [
    "#### Generating UUID String"
   ]
  },
  {
   "cell_type": "code",
   "execution_count": 171,
   "metadata": {
    "id": "YBGdReLFyP3b"
   },
   "outputs": [],
   "source": [
    "uuid_str=str(uuid.uuid4())\n",
    "uuid_str=uuid_str.replace(\"-\",\"\")"
   ]
  },
  {
   "cell_type": "markdown",
   "metadata": {
    "id": "Mg4WMr865gJc"
   },
   "source": [
    "#### Generating MD5 Strings"
   ]
  },
  {
   "cell_type": "code",
   "execution_count": 172,
   "metadata": {
    "id": "jLywFsBz5hMQ"
   },
   "outputs": [],
   "source": [
    "hash_str=hashlib.md5(uuid_str.encode())\n",
    "hash_str=hash_str.hexdigest()"
   ]
  },
  {
   "cell_type": "markdown",
   "metadata": {},
   "source": [
    "#### Dividing UUID & MD5 Strings"
   ]
  },
  {
   "cell_type": "code",
   "execution_count": 173,
   "metadata": {
    "id": "CdQigeQ8fBUd"
   },
   "outputs": [],
   "source": [
    "start=0\n",
    "end=4\n",
    "uuid_blocks=[]\n",
    "md5_blocks=[]\n",
    "\n",
    "for i in range(0,blocks):\n",
    "    uuid_blocks.append(uuid_str[start:end])\n",
    "    md5_blocks.append(hash_str[start:end])\n",
    "    start=end\n",
    "    end=end+4"
   ]
  },
  {
   "cell_type": "markdown",
   "metadata": {},
   "source": [
    "#### Initializing Data Matrix"
   ]
  },
  {
   "cell_type": "code",
   "execution_count": 174,
   "metadata": {
    "id": "2ZzF_eZwg-g0"
   },
   "outputs": [],
   "source": [
    "data_matrix= [[b'']*int(4) for i in range(blocks)]"
   ]
  },
  {
   "cell_type": "markdown",
   "metadata": {},
   "source": [
    "#### Encrypting data using matrix"
   ]
  },
  {
   "cell_type": "code",
   "execution_count": 175,
   "metadata": {
    "colab": {
     "base_uri": "https://localhost:8080/"
    },
    "id": "hBcjpXn8jblA",
    "outputId": "aebe4183-06f0-40aa-89a9-0e7b52a5fc3d"
   },
   "outputs": [],
   "source": [
    "for i in range(0,blocks):\n",
    "    data_matrix[i][0]=md5_blocks[i].encode()\n",
    "    data_matrix[i][1]=bytes(random_numbers[i])\n",
    "    data_matrix[i][2]=file_blocks[i]+b'100'\n",
    "    data_matrix[i][3]=uuid_blocks[i].encode()"
   ]
  },
  {
   "cell_type": "markdown",
   "metadata": {},
   "source": [
    "#### Converting Matrix into String"
   ]
  },
  {
   "cell_type": "code",
   "execution_count": 176,
   "metadata": {
    "id": "GAAwrB1opqSR"
   },
   "outputs": [],
   "source": [
    "matrix_string=b''\n",
    "for i in range(0,blocks):\n",
    "    for j in range(0,4):\n",
    "        matrix_string=matrix_string+data_matrix[i][j]+b'/t'"
   ]
  },
  {
   "cell_type": "code",
   "execution_count": 177,
   "metadata": {
    "id": "82X-IU8F23P9"
   },
   "outputs": [],
   "source": [
    "data_string=matrix_string"
   ]
  },
  {
   "cell_type": "markdown",
   "metadata": {},
   "source": [
    "#### Encrypting String using AES"
   ]
  },
  {
   "cell_type": "markdown",
   "metadata": {},
   "source": [
    "##### Padding String to make sure it is a multiple of 16"
   ]
  },
  {
   "cell_type": "code",
   "execution_count": 178,
   "metadata": {
    "id": "QJrJK7aO_Eyc"
   },
   "outputs": [],
   "source": [
    "padding=b' '*(16-(len(data_string)%16))\n",
    "data_string+=padding"
   ]
  },
  {
   "cell_type": "markdown",
   "metadata": {},
   "source": [
    "##### Generating key and encryting the data"
   ]
  },
  {
   "cell_type": "code",
   "execution_count": 179,
   "metadata": {
    "id": "jfkRMrr-AfYV"
   },
   "outputs": [],
   "source": [
    "iv = os.urandom(16)\n",
    "key=os.urandom(16)\n",
    "encryption_cipher=AES.new(key,AES.MODE_CBC,iv)\n",
    "encrypted_data=encryption_cipher.encrypt(data_string)"
   ]
  },
  {
   "cell_type": "markdown",
   "metadata": {},
   "source": [
    "##### Storing the encrypted file"
   ]
  },
  {
   "cell_type": "code",
   "execution_count": 180,
   "metadata": {
    "id": "YajhguHDC0W_"
   },
   "outputs": [],
   "source": [
    "with open(\"encrypted.\"+extension, mode=\"wb\") as file:\n",
    "      file.write(encrypted_data)"
   ]
  },
  {
   "cell_type": "markdown",
   "metadata": {},
   "source": [
    "##### Saving Key and IV in a file"
   ]
  },
  {
   "cell_type": "code",
   "execution_count": 181,
   "metadata": {},
   "outputs": [],
   "source": [
    "with open(\"key.env\", mode=\"wb\") as file:\n",
    "    file.write(key)\n",
    "    file.write(iv)"
   ]
  },
  {
   "cell_type": "markdown",
   "metadata": {
    "id": "GeUBUeotxZNO"
   },
   "source": [
    "### Decryption"
   ]
  },
  {
   "cell_type": "markdown",
   "metadata": {},
   "source": [
    "#### Reading Key and IV from a file"
   ]
  },
  {
   "cell_type": "code",
   "execution_count": 182,
   "metadata": {},
   "outputs": [],
   "source": [
    "with open(\"key.env\", mode=\"rb\") as file:\n",
    "    content=bytes(file.read())\n",
    "    \n",
    "key2=content[0:16]\n",
    "iv2=content[16:32]"
   ]
  },
  {
   "cell_type": "markdown",
   "metadata": {},
   "source": [
    "#### Reading content from file"
   ]
  },
  {
   "cell_type": "code",
   "execution_count": 183,
   "metadata": {},
   "outputs": [],
   "source": [
    "with open(\"encrypted.\"+extension, mode=\"rb\") as file:\n",
    "    encrypted_data=file.read()"
   ]
  },
  {
   "cell_type": "markdown",
   "metadata": {},
   "source": [
    "#### Decrypting String using AES"
   ]
  },
  {
   "cell_type": "code",
   "execution_count": 184,
   "metadata": {
    "id": "_-mKjFPKDO2X"
   },
   "outputs": [],
   "source": [
    "decryption_cipher=AES.new(key2,AES.MODE_CBC,iv2)\n",
    "data=decryption_cipher.decrypt(encrypted_data)"
   ]
  },
  {
   "cell_type": "markdown",
   "metadata": {},
   "source": [
    "##### Removing the padding"
   ]
  },
  {
   "cell_type": "code",
   "execution_count": 185,
   "metadata": {
    "id": "3Y6Bx4XWGxdy"
   },
   "outputs": [],
   "source": [
    "data=data.strip()"
   ]
  },
  {
   "cell_type": "markdown",
   "metadata": {},
   "source": [
    "#### Decrypting data from matrix"
   ]
  },
  {
   "cell_type": "markdown",
   "metadata": {},
   "source": [
    "##### Converting String into matrix"
   ]
  },
  {
   "cell_type": "code",
   "execution_count": 186,
   "metadata": {
    "id": "NrqFreJir50L"
   },
   "outputs": [],
   "source": [
    "matrix_data=data.split(b'/t')\n",
    "x=0\n",
    "dec_matrix=[[b'']*int(4) for i in range(blocks)]\n",
    "for i in range(0,blocks):\n",
    "    for j in range(0,4):\n",
    "        dec_matrix[i][j]=matrix_data[x]\n",
    "        x=x+1"
   ]
  },
  {
   "cell_type": "code",
   "execution_count": 190,
   "metadata": {},
   "outputs": [],
   "source": [
    "##### Decrypting"
   ]
  },
  {
   "cell_type": "code",
   "execution_count": 187,
   "metadata": {
    "id": "Ntw7rZ3Hui1x"
   },
   "outputs": [],
   "source": [
    "dec_file_blocks=[]\n",
    "for i in range(0,blocks):\n",
    "    dec_file_blocks.append(dec_matrix[i][2])\n",
    "    dec_file_blocks[i]=dec_file_blocks[i][0:len(dec_file_blocks[i])-3]"
   ]
  },
  {
   "cell_type": "code",
   "execution_count": 188,
   "metadata": {
    "id": "GZgG_4FsEg9s"
   },
   "outputs": [],
   "source": [
    "out=b''\n",
    "for i in dec_file_blocks:\n",
    "    out=out+i"
   ]
  },
  {
   "cell_type": "markdown",
   "metadata": {},
   "source": [
    "#### Writing the decrypted content to file"
   ]
  },
  {
   "cell_type": "code",
   "execution_count": 189,
   "metadata": {
    "id": "ailbQAlSTmF3"
   },
   "outputs": [],
   "source": [
    "with open(\"decrypted.\"+extension, mode=\"wb\") as file:\n",
    "    file.write(out)"
   ]
  },
  {
   "cell_type": "code",
   "execution_count": null,
   "metadata": {},
   "outputs": [],
   "source": []
  }
 ],
 "metadata": {
  "colab": {
   "provenance": []
  },
  "kernelspec": {
   "display_name": "Python 3 (ipykernel)",
   "language": "python",
   "name": "python3"
  },
  "language_info": {
   "codemirror_mode": {
    "name": "ipython",
    "version": 3
   },
   "file_extension": ".py",
   "mimetype": "text/x-python",
   "name": "python",
   "nbconvert_exporter": "python",
   "pygments_lexer": "ipython3",
   "version": "3.8.8"
  },
  "toc": {
   "base_numbering": 1,
   "nav_menu": {},
   "number_sections": true,
   "sideBar": true,
   "skip_h1_title": false,
   "title_cell": "Table of Contents",
   "title_sidebar": "Contents",
   "toc_cell": false,
   "toc_position": {},
   "toc_section_display": true,
   "toc_window_display": false
  },
  "varInspector": {
   "cols": {
    "lenName": 16,
    "lenType": 16,
    "lenVar": 40
   },
   "kernels_config": {
    "python": {
     "delete_cmd_postfix": "",
     "delete_cmd_prefix": "del ",
     "library": "var_list.py",
     "varRefreshCmd": "print(var_dic_list())"
    },
    "r": {
     "delete_cmd_postfix": ") ",
     "delete_cmd_prefix": "rm(",
     "library": "var_list.r",
     "varRefreshCmd": "cat(var_dic_list()) "
    }
   },
   "types_to_exclude": [
    "module",
    "function",
    "builtin_function_or_method",
    "instance",
    "_Feature"
   ],
   "window_display": false
  }
 },
 "nbformat": 4,
 "nbformat_minor": 1
}
